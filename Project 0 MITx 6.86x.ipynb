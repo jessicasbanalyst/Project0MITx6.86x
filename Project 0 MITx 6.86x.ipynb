{
 "cells": [
  {
   "cell_type": "markdown",
   "id": "1d94de5d",
   "metadata": {},
   "source": [
    "# Project 0 - MITx 6.86x"
   ]
  },
  {
   "cell_type": "markdown",
   "id": "fbba2156",
   "metadata": {},
   "source": [
    "Write a function called randomization that takes as input a positive integer n, and returns A, a random n x 1 Numpy array."
   ]
  },
  {
   "cell_type": "code",
   "execution_count": 1,
   "id": "554bc248",
   "metadata": {},
   "outputs": [],
   "source": [
    "import numpy as np"
   ]
  },
  {
   "cell_type": "code",
   "execution_count": 2,
   "id": "6a11c4be",
   "metadata": {},
   "outputs": [],
   "source": [
    "def randomization(n):\n",
    "    \"\"\"\n",
    "    Arg:\n",
    "      n - an integer\n",
    "    Returns:\n",
    "      A - a randomly-generated nx1 Numpy array.\n",
    "    \"\"\"\n",
    "    #Your code here\n",
    "    if n <= 0:\n",
    "        raise ValueError(\"Input integer 'n' must be positive.\")\n",
    "    \n",
    "    # Generate a random n x 1 Numpy array\n",
    "    A = np.random.rand(n, 1)\n",
    "    \n",
    "    return A\n",
    "    raise NotImplementedError"
   ]
  },
  {
   "cell_type": "markdown",
   "id": "5117994f",
   "metadata": {},
   "source": [
    "Write a function called operations that takes as input two positive integers h and w, makes two random matrices A and B, of size h x w, and returns A,B, and s, the sum of A and B."
   ]
  },
  {
   "cell_type": "code",
   "execution_count": 3,
   "id": "82a6d796",
   "metadata": {},
   "outputs": [],
   "source": [
    "def operations(h, w):\n",
    "    \"\"\"\n",
    "    Takes two inputs, h and w, and makes two Numpy arrays A and B of size\n",
    "    h x w, and returns A, B, and s, the sum of A and B.\n",
    "\n",
    "    Args:\n",
    "      h - an integer describing the height of A and B\n",
    "      w - an integer describing the width of A and B\n",
    "\n",
    "    Returns (in this order):\n",
    "      A - a randomly-generated h x w Numpy array.\n",
    "      B - a randomly-generated h x w Numpy array.\n",
    "      s - the sum of A and B.\n",
    "    \"\"\"\n",
    "    # Generate random matrices A and B of size h x w\n",
    "    A = np.random.rand(h, w)\n",
    "    B = np.random.rand(h, w)\n",
    "\n",
    "    # Calculate the sum of A and B\n",
    "    s = A + B\n",
    "\n",
    "    return A, B, s\n",
    "    raise NotImplementedError"
   ]
  },
  {
   "cell_type": "markdown",
   "id": "a0813209",
   "metadata": {},
   "source": [
    "Write a function called norm that takes as input two Numpy column arrays A and B, adds them, and returns s, the L2 norm of their sum."
   ]
  },
  {
   "cell_type": "code",
   "execution_count": 4,
   "id": "3b678f1e",
   "metadata": {},
   "outputs": [],
   "source": [
    "def norm(A, B):\n",
    "    \"\"\"\n",
    "    Takes two Numpy column arrays, A and B, and returns the L2 norm of their\n",
    "    sum.\n",
    "\n",
    "    Arg:\n",
    "      A - a Numpy array\n",
    "      B - a Numpy array\n",
    "    Returns:\n",
    "      s - the L2 norm of A+B.\n",
    "    \"\"\"\n",
    "    #Your code here\n",
    "    \n",
    "    # Calculate the sum of A and B\n",
    "    sum_AB = A + B\n",
    "    \n",
    "    # Calculate the L2 norm of the sum\n",
    "    s = np.linalg.norm(sum_AB)\n",
    "    \n",
    "    return s\n",
    "    raise NotImplementedError"
   ]
  },
  {
   "cell_type": "markdown",
   "id": "3b6d4aa5",
   "metadata": {},
   "source": [
    "Here, we will write a function neural_network, which will apply a neural network operation with 2 inputs and 1 output and a given weight matrix.\n",
    "Your function should take two arguments: inputs and weights, two NumPy arrays of shape (2,1) and should return a NumPy array of shape (1,1), the output of the neural network. Do not forget the tanh activation."
   ]
  },
  {
   "cell_type": "code",
   "execution_count": 5,
   "id": "24546b60",
   "metadata": {},
   "outputs": [],
   "source": [
    "def neural_network(inputs, weights):\n",
    "    \"\"\"\n",
    "     Takes an input vector and runs it through a 1-layer neural network\n",
    "     with a given weight matrix and returns the output.\n",
    "\n",
    "     Args:\n",
    "       inputs - 2 x 1 NumPy array\n",
    "       weights - 2 x 1 NumPy array\n",
    "\n",
    "     Returns (in this order):\n",
    "       out - a 1 x 1 NumPy array, representing the output of the neural network\n",
    "    \"\"\"\n",
    "    # Calculate the weighted sum of inputs and weights\n",
    "    weighted_sum = np.dot(weights.T, inputs)\n",
    "\n",
    "    # Apply the tanh activation function\n",
    "    out = np.tanh(weighted_sum)\n",
    "\n",
    "    return out\n",
    "    raise NotImplementedError"
   ]
  },
  {
   "attachments": {
    "Screenshot%202023-09-17%20at%203.07.03%20PM.png": {
     "image/png": "[encoded data removed]"
    }
   },
   "cell_type": "markdown",
   "id": "1e07155d",
   "metadata": {},
   "source": [
    "Let's start with writing a scalar function scalar_function, which will apply the following operation with input x and y.\n",
    "![Screenshot%202023-09-17%20at%203.07.03%20PM.png](attachment:Screenshot%202023-09-17%20at%203.07.03%20PM.png)\n",
    "Note that x and y are scalars."
   ]
  },
  {
   "cell_type": "code",
   "execution_count": 6,
   "id": "533102d4",
   "metadata": {},
   "outputs": [],
   "source": [
    "def scalar_function(x, y):\n",
    "    \"\"\"\n",
    "    Returns the f(x,y) defined in the problem statement.\n",
    "    \"\"\"\n",
    "    if x <= y:\n",
    "        result = x * y\n",
    "    else:\n",
    "        result = x / y\n",
    "    \n",
    "    return result"
   ]
  },
  {
   "cell_type": "markdown",
   "id": "26576225",
   "metadata": {},
   "source": [
    "scalar_function can only handle scalar input, we could use the function np.vectorize() turn it into a vectorized function. Note that the input argument of np.vectorize() should be a scalar function, and the output of np.vectorize() is a new function that can handle vector input.\n",
    "\n",
    "Please write a vector function vector_function, which will apply the operation f(x,y) defined above element-wisely with input vectors with same dimension x and y."
   ]
  },
  {
   "cell_type": "code",
   "execution_count": 9,
   "id": "bfc902a2",
   "metadata": {},
   "outputs": [],
   "source": [
    "def vector_function(x, y):\n",
    "    \"\"\"\n",
    "    Make sure vector_function can deal with vector input x,y \n",
    "    \"\"\"\n",
    "    #Your code here\n",
    "    if x <= y:\n",
    "        result = x * y\n",
    "    else:\n",
    "        result = x / y\n",
    "    \n",
    "    return result\n",
    "    raise NotImplementedError\n",
    "\n",
    "# Vectorize the scalar function to create a vector function\n",
    "vector_function = np.vectorize(scalar_function)"
   ]
  },
  {
   "cell_type": "markdown",
   "id": "29ef5e46",
   "metadata": {},
   "source": [
    "In this problem, you are given a buggy piece of code and are asked to debug it.\n",
    "\n",
    "The function get_sum_metrics takes two arguments: a prediction and a list of metrics to apply to the prediction (say, for instance, the accuracy or the precision). Note that each metric is a function, not a number. The function should compute each of the metrics for the prediction and sum them. It should also add to this sum three default metrics, in this case, adding 0, 1 or 2 to the prediction."
   ]
  },
  {
   "cell_type": "code",
   "execution_count": 10,
   "id": "12267769",
   "metadata": {},
   "outputs": [],
   "source": [
    "#Answered\n",
    "def get_sum_metrics(predictions, metrics=None):\n",
    "    if metrics is None:\n",
    "        metrics = []\n",
    "    \n",
    "    for i in range(3):\n",
    "        metrics.append(lambda x, i=i: x + i)\n",
    "\n",
    "    sum_metrics = 0\n",
    "    for metric in metrics:\n",
    "        sum_metrics += metric(predictions)\n",
    "\n",
    "    return sum_metrics"
   ]
  }
 ],
 "metadata": {
  "kernelspec": {
   "display_name": "Python 3 (ipykernel)",
   "language": "python",
   "name": "python3"
  },
  "language_info": {
   "codemirror_mode": {
    "name": "ipython",
    "version": 3
   },
   "file_extension": ".py",
   "mimetype": "text/x-python",
   "name": "python",
   "nbconvert_exporter": "python",
   "pygments_lexer": "ipython3",
   "version": "3.9.12"
  }
 },
 "nbformat": 4,
 "nbformat_minor": 5
}
